{
 "cells": [
  {
   "cell_type": "markdown",
   "metadata": {},
   "source": [
    "## Long Short-Term Memory implementation"
   ]
  },
  {
   "cell_type": "code",
   "execution_count": null,
   "metadata": {},
   "outputs": [],
   "source": [
    "from theano import *\n",
    "import theano.tensor as T\n",
    "from theano.tensor.shared_randomstreams import RandomStreams\n",
    "import pandas as pd\n",
    "import numpy as np"
   ]
  },
  {
   "cell_type": "markdown",
   "metadata": {},
   "source": [
    "### Loading data"
   ]
  },
  {
   "cell_type": "code",
   "execution_count": null,
   "metadata": {},
   "outputs": [],
   "source": [
    "tsx = pd.read_csv('SPY.csv')\n",
    "\n",
    "#difference and normalize feature\n",
    "X = tsx.values[:,1:-2]\n",
    "Xd = np.diff(X,axis=0)\n",
    "Xsd = ((Xd - np.mean(Xd,axis=0)) / np.var(Xd,axis=0)).astype(np.float32)[:-1][-5365:]\n",
    "\n",
    "#generate up/down label\n",
    "Y = ((Xd[:,4] > 0)*1)[1:].astype(np.int32)[-5365:].reshape(-1,1)"
   ]
  },
  {
   "cell_type": "markdown",
   "metadata": {},
   "source": [
    "### Building LSTM in theano"
   ]
  },
  {
   "cell_type": "code",
   "execution_count": null,
   "metadata": {},
   "outputs": [],
   "source": [
    "#parameters\n",
    "n_in = Xsd.shape[1]\n",
    "n_blocks = 36\n",
    "seed = 132345\n",
    "activation = T.nnet.relu\n",
    "\n",
    "######\n",
    "#computational flow\n",
    "rng = np.random.RandomState(seed)\n",
    "x = T.matrix('x')\n",
    "y = T.imatrix('y')\n",
    "def genW(size):\n",
    "    return np.asarray(\n",
    "        rng.uniform(\n",
    "            low=-0.1,\n",
    "            high=0.1,\n",
    "            size = size\n",
    "        ),\n",
    "        dtype = theano.config.floatX)\n",
    "M = n_in\n",
    "N = n_blocks\n",
    " #input weights\n",
    "Wz = theano.shared(value=genW((M,N)),name=\"Wz\",borrow=True)\n",
    "Wi = theano.shared(value=genW((M,N)),name=\"Wi\",borrow=True)\n",
    "Wf = theano.shared(value=genW((M,N)),name=\"Wf\",borrow=True)\n",
    "Wo = theano.shared(value=genW((M,N)),name=\"Wo\",borrow=True)\n",
    "#recurrence weights\n",
    "Rz = theano.shared(value=genW((N,N)),name=\"Rz\",borrow=True)\n",
    "Ri = theano.shared(value=genW((N,N)),name=\"Ri\",borrow=True)\n",
    "Rf = theano.shared(value=genW((N,N)),name=\"Rf\",borrow=True)\n",
    "Ro = theano.shared(value=genW((N,N)),name=\"Ro\",borrow=True)\n",
    "#peephole weights\n",
    "pi = theano.shared(value=np.zeros(N,dtype=theano.config.floatX),name=\"pi\",borrow=True)\n",
    "pf = theano.shared(value=np.zeros(N,dtype=theano.config.floatX),name=\"pf\",borrow=True)\n",
    "po = theano.shared(value=np.zeros(N,dtype=theano.config.floatX),name=\"po\",borrow=True)\n",
    "#bias weights\n",
    "bz = theano.shared(value=np.zeros(N,dtype=theano.config.floatX),name=\"bz\",borrow=True)\n",
    "bi = theano.shared(value=np.zeros(N,dtype=theano.config.floatX),name=\"bi\",borrow=True)\n",
    "bf = theano.shared(value=np.zeros(N,dtype=theano.config.floatX),name=\"bf\",borrow=True)\n",
    "bo = theano.shared(value=np.zeros(N,dtype=theano.config.floatX),name=\"bo\",borrow=True)\n",
    "params = [Wz,Wi,Wf,Wo,Rz,Ri,Rf,Ro,\n",
    "          pi,pf,po,bz,bi,bf,bo]\n",
    "#hidden states\n",
    "y0 = theano.shared(value=np.zeros((1,N),dtype=theano.config.floatX),name=\"y0\",borrow=True)\n",
    "c0 = theano.shared(value=np.zeros((1,N),dtype=theano.config.floatX),name=\"c0\",borrow=True)\n",
    "#regression weights\n",
    "W_out = theano.shared(value=genW((N,1)),name=\"W_out\",borrow=True)\n",
    "b_out = theano.shared(value=0.0,name=\"b_out\",borrow=True)\n",
    "params += [W_out, b_out]\n",
    "#recurrence step\n",
    "def recurrence(x_t,y_t1,c_t1):\n",
    "    #block input\n",
    "    z_t = activation(T.dot(x_t,Wz) + T.dot(y_t1,Rz) + bz)\n",
    "    #input gate\n",
    "    i_t = T.nnet.sigmoid(T.dot(x_t,Wi) + T.dot(y_t1,Ri) + pi*c_t1 + bi)\n",
    "    #forget gate\n",
    "    f_t = T.nnet.sigmoid(T.dot(x_t,Wf) + T.dot(y_t1,Rf) + pf*c_t1 + bf)\n",
    "    #cell\n",
    "    c_t = z_t*i_t + c_t1*f_t\n",
    "    #output gate\n",
    "    o_t = T.nnet.sigmoid(T.dot(x_t,Wo) + T.dot(y_t1,Ro) + po*c_t1 + bo)\n",
    "    #block output\n",
    "    y_t = activation(c_t) * o_t\n",
    "    return [y_t, c_t], OrderedDict({y0: y_t, c0: c_t})\n",
    "#scan for recurrence\n",
    "[u_t, c_t], _ = theano.scan(fn=recurrence,\n",
    "                             sequences=[x],\n",
    "                             outputs_info=[y0,c0]\n",
    "                            )\n",
    "#lstm output state\n",
    "lstm_out = u_t[:,0,:]\n",
    "#output probability\n",
    "p_y_x = T.nnet.sigmoid(T.dot(lstm_out,W_out) + b_out)\n",
    "#label prediction\n",
    "y_p = T.gt(p_y_x,0.5)*1\n",
    "#cross entropy loss\n",
    "CE = T.nnet.binary_crossentropy(p_y_x,y).mean()"
   ]
  },
  {
   "cell_type": "markdown",
   "metadata": {},
   "source": [
    "### Training"
   ]
  },
  {
   "cell_type": "code",
   "execution_count": null,
   "metadata": {},
   "outputs": [],
   "source": [
    "#parameters\n",
    "tlength = 5000\n",
    "learning_rate=0.01\n",
    "n_epochs=2000\n",
    "sX = theano.shared(np.asarray(Xsd[:tlength], dtype=theano.config.floatX))\n",
    "sY = theano.shared(np.asarray(Y[:tlength], dtype=np.int32))\n",
    "\n",
    "\n",
    "####\n",
    "#training function\n",
    "cost = CE\n",
    "gparams = [T.grad(cost,param) for param in params]\n",
    "updates = [(param, param - learning_rate * gparam) for param,gparam in zip(params,gparams)]\n",
    "train_lstm = theano.function(\n",
    "    inputs=[],\n",
    "    outputs=[cost],\n",
    "    updates=updates,\n",
    "    givens={\n",
    "        x: sX,\n",
    "        y: sY\n",
    "    },\n",
    ")\n",
    "####\n",
    "#predicting function\n",
    "pred_y = theano.function(\n",
    "    inputs=[x],\n",
    "    outputs=y_p\n",
    ")"
   ]
  },
  {
   "cell_type": "code",
   "execution_count": null,
   "metadata": {
    "scrolled": true
   },
   "outputs": [],
   "source": [
    "#training\n",
    "print \"training...\"\n",
    "for ep in range(n_epochs):\n",
    "        print('Training epoch %d, cost %f' % (ep, np.mean(train_lstm())))"
   ]
  },
  {
   "cell_type": "code",
   "execution_count": null,
   "metadata": {},
   "outputs": [],
   "source": [
    "#testing\n",
    "print np.mean(pred_y(Xsd)[tlength:]==Y[tlength:])"
   ]
  }
 ],
 "metadata": {
  "kernelspec": {
   "display_name": "Python 3 (ipykernel)",
   "language": "python",
   "name": "python3"
  },
  "language_info": {
   "codemirror_mode": {
    "name": "ipython",
    "version": 3
   },
   "file_extension": ".py",
   "mimetype": "text/x-python",
   "name": "python",
   "nbconvert_exporter": "python",
   "pygments_lexer": "ipython3",
   "version": "3.9.12"
  }
 },
 "nbformat": 4,
 "nbformat_minor": 2
}
