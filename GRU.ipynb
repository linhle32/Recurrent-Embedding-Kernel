{
 "cells": [
  {
   "cell_type": "markdown",
   "metadata": {},
   "source": [
    "## Gated Recurrent Unit implementation"
   ]
  },
  {
   "cell_type": "code",
   "execution_count": null,
   "metadata": {},
   "outputs": [],
   "source": [
    "from theano import *\n",
    "import theano.tensor as T\n",
    "\n",
    "from sklearn.preprocessing import normalize\n",
    "from theano.tensor.shared_randomstreams import RandomStreams\n",
    "import pandas as pd\n",
    "import numpy as np"
   ]
  },
  {
   "cell_type": "markdown",
   "metadata": {},
   "source": [
    "## Load data"
   ]
  },
  {
   "cell_type": "code",
   "execution_count": null,
   "metadata": {},
   "outputs": [],
   "source": [
    "tsx = pd.read_csv('SPY.csv')\n",
    "#differencing and normalizing features\n",
    "X = tsx.values[:,1:-2]\n",
    "Xd = np.diff(X,axis=0)\n",
    "Xsd = ((Xd - np.mean(Xd,axis=0)) / np.var(Xd,axis=0)).astype(np.float32)[:-1][-5365:]\n",
    "\n",
    "#label\n",
    "Y = ((Xd[:,4] > 0)*1)[1:].astype(np.int32)[-5365:].reshape(-1,1)\n",
    "Xsd.shape, Y.shape"
   ]
  },
  {
   "cell_type": "markdown",
   "metadata": {},
   "source": [
    "## GRU construction"
   ]
  },
  {
   "cell_type": "code",
   "execution_count": null,
   "metadata": {},
   "outputs": [],
   "source": [
    "##parameters\n",
    "n_in = Xsd.shape[1]\n",
    "n_blocks = 36\n",
    "seed = 132345\n",
    "activation = T.nnet.relu\n",
    "\n",
    "##computational flow\n",
    "rng = np.random.RandomState(seed)\n",
    "x = T.matrix('x')\n",
    "y = T.imatrix('y')\n",
    "def genW(size):\n",
    "    return np.asarray(\n",
    "        rng.uniform(\n",
    "            low=-0.1,\n",
    "            high=0.1,\n",
    "            size = size\n",
    "        ),\n",
    "        dtype = theano.config.floatX)\n",
    "M = n_in\n",
    "N = n_blocks\n",
    "\n",
    "#input block\n",
    "Wz = theano.shared(value=genW((M,N)),name=\"Wz\",borrow=True)\n",
    "Wr = theano.shared(value=genW((M,N)),name=\"Wr\",borrow=True)\n",
    "W = theano.shared(value=genW((M,N)),name=\"W\",borrow=True)\n",
    "#recurrent block\n",
    "Uz = theano.shared(value=genW((N,N)),name=\"Uz\",borrow=True)\n",
    "Ur = theano.shared(value=genW((N,N)),name=\"Ur\",borrow=True)\n",
    "U = theano.shared(value=genW((N,N)),name=\"U\",borrow=True) \n",
    "params = [Wz,Wr,W,Uz,Ur,U]\n",
    "u0 = theano.shared(value=np.zeros((1,N),dtype=theano.config.floatX),borrow=True)\n",
    "#regression weights\n",
    "W_out = theano.shared(value=genW((N,1)),name=\"W_out\",borrow=True)\n",
    "b_out = theano.shared(value=np.zeros(1,dtype=np.float32),name=\"b_out\",borrow=True)\n",
    "params += [W_out, b_out]\n",
    "#recurrence step\n",
    "def recurrence(x_t,h_t1):\n",
    "    #update gate\n",
    "    z_t = T.nnet.sigmoid(T.dot(x_t,Wz) + T.dot(h_t1,Uz))\n",
    "    #reset gate\n",
    "    r_t = T.nnet.sigmoid(T.dot(x_t,Wr) + T.dot(h_t1,Ur))\n",
    "    h_tl = activation(T.dot(x_t,W) + T.dot(r_t*h_t1,U))\n",
    "    #block output\n",
    "    h_t = (1-z_t)*h_t1 + z_t*h_tl\n",
    "    \n",
    "    return h_t, OrderedDict({u0: h_t})\n",
    "#hidden state computation\n",
    "u_t, _ = theano.scan(fn=recurrence,\n",
    "                     sequences=[x],\n",
    "                     outputs_info=[u0]\n",
    "                     )\n",
    "#hidden state output\n",
    "gru_out = u_t[:,0,:]\n",
    "#output probability\n",
    "p_y_x = T.nnet.sigmoid(T.dot(gru_out,W_out) + b_out)\n",
    "#label prediction\n",
    "y_p = T.gt(p_y_x,0.5)*1\n",
    "#cross entropy loss\n",
    "CE = T.nnet.binary_crossentropy(p_y_x,y).mean()"
   ]
  },
  {
   "cell_type": "markdown",
   "metadata": {},
   "source": [
    "## Training"
   ]
  },
  {
   "cell_type": "code",
   "execution_count": null,
   "metadata": {},
   "outputs": [],
   "source": [
    "#parameters\n",
    "tlength = 5000\n",
    "learning_rate=0.1\n",
    "n_epochs=1000\n",
    "   \n",
    "sX = theano.shared(np.asarray(Xsd[:tlength], dtype=theano.config.floatX))\n",
    "sY = theano.shared(np.asarray(Y[:tlength], dtype=np.int32))\n",
    "\n",
    "\n",
    "####\n",
    "#training function\n",
    "cost = CE\n",
    "gparams = [T.grad(cost,param) for param in params]\n",
    "updates = [(param, param - learning_rate * gparam) for param,gparam in zip(params,gparams)]\n",
    "train_gru = theano.function(\n",
    "    inputs=[],\n",
    "    outputs=[cost],\n",
    "    updates=updates,\n",
    "    givens={\n",
    "        x: sX,\n",
    "        y: sY\n",
    "    },\n",
    ")\n",
    "#prediction function\n",
    "pred_y = theano.function(\n",
    "    inputs=[x],\n",
    "    outputs=y_p\n",
    ")"
   ]
  },
  {
   "cell_type": "code",
   "execution_count": null,
   "metadata": {
    "scrolled": true
   },
   "outputs": [],
   "source": [
    "#training\n",
    "print \"training...\"\n",
    "for ep in range(n_epochs):\n",
    "        print('Training epoch %d, cost %f' % (ep, np.mean(train_gru())))"
   ]
  },
  {
   "cell_type": "markdown",
   "metadata": {},
   "source": [
    "## Testing"
   ]
  },
  {
   "cell_type": "code",
   "execution_count": null,
   "metadata": {
    "scrolled": true
   },
   "outputs": [],
   "source": [
    "print np.mean(pred_y(Xsd)[tlength:]==Y[tlength:])"
   ]
  }
 ],
 "metadata": {
  "kernelspec": {
   "display_name": "Python 3 (ipykernel)",
   "language": "python",
   "name": "python3"
  },
  "language_info": {
   "codemirror_mode": {
    "name": "ipython",
    "version": 3
   },
   "file_extension": ".py",
   "mimetype": "text/x-python",
   "name": "python",
   "nbconvert_exporter": "python",
   "pygments_lexer": "ipython3",
   "version": "3.9.12"
  }
 },
 "nbformat": 4,
 "nbformat_minor": 2
}
