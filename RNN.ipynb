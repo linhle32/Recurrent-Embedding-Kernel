{
 "cells": [
  {
   "cell_type": "markdown",
   "metadata": {},
   "source": [
    "## Vanilla Recurrent Neural Network implementation"
   ]
  },
  {
   "cell_type": "code",
   "execution_count": null,
   "metadata": {},
   "outputs": [],
   "source": [
    "#import libraries\n",
    "import os\n",
    "os.environ[\"THEANO_FLAGS\"] = \"device=gpu,floatX=float32,exception_verbosity='high'\"\n",
    "\n",
    "from theano import *\n",
    "import theano.tensor as T\n",
    "\n",
    "import numpy as np\n",
    "import pandas as pd"
   ]
  },
  {
   "cell_type": "markdown",
   "metadata": {},
   "source": [
    "### Loading data"
   ]
  },
  {
   "cell_type": "code",
   "execution_count": null,
   "metadata": {},
   "outputs": [],
   "source": [
    "tsx = pd.read_csv('SPY.csv')\n",
    "\n",
    "#difference and normalize data\n",
    "X = tsx.values[:,1:-2]\n",
    "X = tsx[['Open','High','Low','Close','Adj Close','Volume']]\n",
    "Xd = np.diff(X,axis=0)\n",
    "Xsd = ((Xd - np.mean(Xd,axis=0)) / np.std(Xd.astype(np.float32),axis=0)).astype(np.float32)[:-1][-5365:]\n",
    "\n",
    "#up/down label\n",
    "Y = ((Xd[:,4] > 0)*1)[1:].astype(np.int32)[-5365:].reshape(-1,1)"
   ]
  },
  {
   "cell_type": "markdown",
   "metadata": {},
   "source": [
    "### Building vanilla RNN"
   ]
  },
  {
   "cell_type": "code",
   "execution_count": null,
   "metadata": {},
   "outputs": [],
   "source": [
    "#paramters\n",
    "n_in = 6\n",
    "rl = [36]\n",
    "seed = 132345\n",
    "activation = T.nnet.relu\n",
    "\n",
    "####\n",
    "#computational flow\n",
    "rng = np.random.RandomState(seed)\n",
    "x = T.matrix('x')\n",
    "y = T.imatrix('y')\n",
    "def genW(size):\n",
    "    return np.asarray(\n",
    "        rng.uniform(\n",
    "            low=-0.1,\n",
    "            high=0.1,\n",
    "            size = size\n",
    "        ),\n",
    "        dtype = theano.config.floatX)\n",
    "#recurrent block\n",
    "M = n_in\n",
    "N = rl[-1]\n",
    "nr = len(rl)\n",
    "W0 = theano.shared(value=genW((M,rl[0])),name=\"W0\",borrow=True)\n",
    "Wu = theano.shared(value=genW((rl[-1],rl[0])),name=\"Wu\",borrow=True)\n",
    "b0 = theano.shared(value=np.zeros(rl[0],dtype=theano.config.floatX),name=\"b0\",borrow=True)\n",
    "u0 = theano.shared(value=np.zeros((1,N),dtype=theano.config.floatX),borrow=True)\n",
    "params = [W0,Wu,b0]\n",
    "W = []\n",
    "b = []\n",
    "for i in range(0,nr-1):\n",
    "    W.append(\n",
    "        theano.shared(value=genW((rl[i],rl[i+1])),name=\"W\"+str(i+1),borrow=True))\n",
    "    b.append(\n",
    "        theano.shared(value=np.zeros(rl[i+1],dtype=theano.config.floatX),name=\"b\"+str(i+1),borrow=True))\n",
    "    params += [W[i], b[i]]\n",
    "#recurrent step\n",
    "def recurrence(xt,u_t1):\n",
    "    u_t = T.tanh(T.dot(xt,W0) + T.dot(u_t1,Wu) + b0)\n",
    "    for i in range(nr-1):\n",
    "        u_t = activation(T.dot(u_t,W[i]) + b[i])\n",
    "    return u_t,OrderedUpdates({u0: u_t})\n",
    "#scan for recurrent computation\n",
    "u_t, update_u0 = theano.scan(fn=recurrence,\n",
    "                              sequences = [x],\n",
    "                              outputs_info = [u0]\n",
    "                             )\n",
    "#recurrent output\n",
    "rnn_out = u_t[:,0,:]\n",
    "#output layer\n",
    "Wout = theano.shared(value=np.zeros((N,1),dtype=np.float32),name=\"Wout\",borrow=True)\n",
    "bout = theano.shared(value=np.zeros(1,dtype=np.float32),name=\"bout\",borrow=True)\n",
    "params += [Wout,bout]\n",
    "#output probability\n",
    "p_y_x = T.nnet.sigmoid(T.dot(rnn_out,Wout) + bout)\n",
    "#label prediction\n",
    "y_p = T.gt(p_y_x,0.5)*1\n",
    "#cross entropy loss\n",
    "CE = T.nnet.binary_crossentropy(p_y_x,y).mean()\n",
    "#reset hidden states\n",
    "def reset_hiddens():\n",
    "    u0.set_value(np.zeros((1,N),dtype=theano.config.floatX))"
   ]
  },
  {
   "cell_type": "markdown",
   "metadata": {},
   "source": [
    "### Training"
   ]
  },
  {
   "cell_type": "code",
   "execution_count": null,
   "metadata": {},
   "outputs": [],
   "source": [
    "#paramters\n",
    "tlength = 5000\n",
    "learning_rate=0.5\n",
    "n_epochs=5000\n",
    "sX = theano.shared(np.asarray(Xsd[:tlength], dtype=theano.config.floatX))\n",
    "sY = theano.shared(np.asarray(Y[:tlength], dtype=np.int32))\n",
    "\n",
    "####\n",
    "#function for training\n",
    "cost = CE\n",
    "gparams = [T.grad(cost,param) for param in params]\n",
    "updates = [(param, param - learning_rate * gparam) for param,gparam in zip(params,gparams)]\n",
    "train_rnn = theano.function(\n",
    "    inputs=[],\n",
    "    outputs=[cost],\n",
    "    updates=updates,\n",
    "    givens={\n",
    "        x: sX,\n",
    "        y: sY\n",
    "    },\n",
    ")\n",
    "#function for predicting\n",
    "pred_y = theano.function(\n",
    "    inputs=[x],\n",
    "    outputs=y_p\n",
    ")"
   ]
  },
  {
   "cell_type": "code",
   "execution_count": null,
   "metadata": {
    "scrolled": true
   },
   "outputs": [],
   "source": [
    "#training\n",
    "print \"training...\"\n",
    "\n",
    "for ep in range(n_epochs):\n",
    "        print('Training epoch %d, cost %f' % (ep, np.mean(train_rnn())))"
   ]
  },
  {
   "cell_type": "code",
   "execution_count": null,
   "metadata": {},
   "outputs": [],
   "source": [
    "#testing\n",
    "print np.mean(pred_y(Xsd)[tlength:]==Y[tlength:])"
   ]
  }
 ],
 "metadata": {
  "kernelspec": {
   "display_name": "Python 3 (ipykernel)",
   "language": "python",
   "name": "python3"
  },
  "language_info": {
   "codemirror_mode": {
    "name": "ipython",
    "version": 3
   },
   "file_extension": ".py",
   "mimetype": "text/x-python",
   "name": "python",
   "nbconvert_exporter": "python",
   "pygments_lexer": "ipython3",
   "version": "3.9.12"
  }
 },
 "nbformat": 4,
 "nbformat_minor": 2
}
